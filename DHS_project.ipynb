{
 "cells": [
  {
   "cell_type": "code",
   "execution_count": 39,
   "metadata": {},
   "outputs": [],
   "source": [
    "sample_labeled_data = \"/workspaces/Health_Squad/bmp_images\""
   ]
  },
  {
   "cell_type": "code",
   "execution_count": 40,
   "metadata": {},
   "outputs": [],
   "source": [
    "sample_unlabeled_data = \"sample_data/unlabel_sample_data\""
   ]
  },
  {
   "cell_type": "code",
   "execution_count": 41,
   "metadata": {},
   "outputs": [
    {
     "name": "stdout",
     "output_type": "stream",
     "text": [
      "File: pixil-frame-0(7).bmp, Size: 3000054 bytes, Dimensions: (1000, 750)\n",
      "File: pixil-frame-0(8).bmp, Size: 3000054 bytes, Dimensions: (1000, 750)\n",
      "File: pixil-frame-0(6).bmp, Size: 3000054 bytes, Dimensions: (1000, 750)\n",
      "File: pixil-frame-0(5).bmp, Size: 3000054 bytes, Dimensions: (1000, 750)\n",
      "File: pixil-frame-0.bmp, Size: 3000054 bytes, Dimensions: (1000, 750)\n",
      "File: model.h5, Size: 111184 bytes, Dimensions: (1, 1)\n",
      "File: pixil-frame-0(4).bmp, Size: 3000054 bytes, Dimensions: (1000, 750)\n",
      "Error processing file bmp_images: [Errno 21] Is a directory: '/workspaces/Health_Squad/bmp_images/bmp_images'\n",
      "File: pixil-frame-0(1).bmp, Size: 3000054 bytes, Dimensions: (1000, 750)\n",
      "File: pixil-frame-0(2).bmp, Size: 3000054 bytes, Dimensions: (1000, 750)\n",
      "File: pixil-frame-0(3).bmp, Size: 3000054 bytes, Dimensions: (1000, 750)\n"
     ]
    }
   ],
   "source": [
    "import os\n",
    "from PIL import Image\n",
    "\n",
    "# List all files in the folder\n",
    "files = os.listdir(sample_labeled_data)\n",
    "\n",
    "# Iterate over each file and print its size and dimensions\n",
    "for file_name in files:\n",
    "    file_path = os.path.join(sample_labeled_data, file_name)\n",
    "    try:\n",
    "        # Open the image file\n",
    "        with Image.open(file_path) as img:\n",
    "            # Get the size (file size in bytes) and dimensions (width x height)\n",
    "            size = os.path.getsize(file_path)\n",
    "            dimensions = img.size\n",
    "            print(f\"File: {file_name}, Size: {size} bytes, Dimensions: {dimensions}\")\n",
    "    except Exception as e:\n",
    "        print(f\"Error processing file {file_name}: {e}\")\n"
   ]
  },
  {
   "cell_type": "code",
   "execution_count": 42,
   "metadata": {},
   "outputs": [
    {
     "data": {
      "text/plain": [
       "[]"
      ]
     },
     "execution_count": 42,
     "metadata": {},
     "output_type": "execute_result"
    }
   ],
   "source": [
    "from PIL import Image\n",
    "import os\n",
    "\n",
    "folder_path = sample_labeled_data\n",
    "\n",
    "# Create a folder for BMP images if it doesn't exist\n",
    "bmp_folder_path = os.path.join(folder_path, 'bmp_images')\n",
    "os.makedirs(bmp_folder_path, exist_ok=True)\n",
    "\n",
    "# List all PNG files in the folder\n",
    "png_files = [f for f in os.listdir(folder_path) if f.endswith('.png')]\n",
    "\n",
    "# Convert each PNG image to BMP and save it in the bmp_images folder\n",
    "for png_file in png_files:\n",
    "    # Load the PNG image\n",
    "    png_image_path = os.path.join(folder_path, png_file)\n",
    "    png_image = Image.open(png_image_path)\n",
    "    \n",
    "    # Define the BMP file path\n",
    "    bmp_file_path = os.path.join(bmp_folder_path, png_file.replace('.png', '.bmp'))\n",
    "    \n",
    "    # Save the image in BMP format\n",
    "    png_image.save(bmp_file_path)\n",
    "\n",
    "# Return the list of converted BMP files\n",
    "converted_files = os.listdir(bmp_folder_path)\n",
    "converted_files\n"
   ]
  },
  {
   "cell_type": "code",
   "execution_count": 43,
   "metadata": {},
   "outputs": [
    {
     "data": {
      "text/plain": [
       "{}"
      ]
     },
     "execution_count": 43,
     "metadata": {},
     "output_type": "execute_result"
    }
   ],
   "source": [
    "import cv2\n",
    "import numpy as np\n",
    "import os\n",
    "from pathlib import Path\n",
    "\n",
    "# Define the path to the folder\n",
    "folder_path = Path('sample_data/dataset_label')\n",
    "\n",
    "# Prepare a dictionary to hold the annotations\n",
    "annotations = {}\n",
    "\n",
    "# Function to find bounding boxes from the squares drawn in the images\n",
    "def find_squares(image):\n",
    "    # Convert the image to grayscale and then binary image\n",
    "    gray = cv2.cvtColor(image, cv2.COLOR_BGR2GRAY)\n",
    "    _, binary = cv2.threshold(gray, 128, 255, cv2.THRESH_BINARY_INV)\n",
    "    \n",
    "    # Find contours\n",
    "    contours, _ = cv2.findContours(binary, cv2.RETR_EXTERNAL, cv2.CHAIN_APPROX_SIMPLE)\n",
    "    \n",
    "    # Approximate contours to polygons + get bounding rects\n",
    "    bounding_boxes = []\n",
    "    for contour in contours:\n",
    "        epsilon = 0.1 * cv2.arcLength(contour, True)\n",
    "        approx = cv2.approxPolyDP(contour, epsilon, True)\n",
    "        if len(approx) == 4:  # This checks if the contour has 4 sides\n",
    "            x, y, w, h = cv2.boundingRect(approx)\n",
    "            bounding_boxes.append((x, y, w, h))\n",
    "    \n",
    "    return bounding_boxes\n",
    "\n",
    "# Go through each image in the folder\n",
    "for image_name in os.listdir(folder_path):\n",
    "    # Only process .png images\n",
    "    if image_name.endswith('.bmp'):\n",
    "        # Read the image\n",
    "        image_path = folder_path / image_name\n",
    "        image = cv2.imread(str(image_path))\n",
    "        \n",
    "        # Find the bounding boxes\n",
    "        boxes = find_squares(image)\n",
    "        \n",
    "        # Save the bounding boxes\n",
    "        annotations[image_name] = boxes\n",
    "\n",
    "annotations # This will display the found annotations (bounding boxes) for each image."
   ]
  }
 ],
 "metadata": {
  "kernelspec": {
   "display_name": "Python 3",
   "language": "python",
   "name": "python3"
  },
  "language_info": {
   "codemirror_mode": {
    "name": "ipython",
    "version": 3
   },
   "file_extension": ".py",
   "mimetype": "text/x-python",
   "name": "python",
   "nbconvert_exporter": "python",
   "pygments_lexer": "ipython3",
   "version": "3.10.13"
  },
  "orig_nbformat": 4
 },
 "nbformat": 4,
 "nbformat_minor": 2
}
